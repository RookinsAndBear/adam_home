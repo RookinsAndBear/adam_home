{
 "cells": [
  {
   "cell_type": "markdown",
   "metadata": {},
   "source": [
    "## This notebook shows how to run a whole lot of propagations"
   ]
  },
  {
   "cell_type": "code",
   "execution_count": 1,
   "metadata": {},
   "outputs": [],
   "source": [
    "import sys\n",
    "from os.path import expanduser\n",
    "\n",
    "# default adam location - alter directory structure if you decide to use a different path\n",
    "# for example: adam_home_defined = expanduser(\"~\") + \"your_project_name/scenario1/adam_home\"\n",
    "adam_home_defined = expanduser(\"~\") + \"/adam_home\" # default location\n",
    "\n",
    "# Add adam path to system in order to import adam\n",
    "sys.path.append(adam_home_defined)\n",
    "\n",
    "# import adam and adam modules required\n",
    "import adam\n",
    "from adam import adam_config"
   ]
  },
  {
   "cell_type": "code",
   "execution_count": 2,
   "metadata": {},
   "outputs": [],
   "source": [
    "from adam import Batch\n",
    "from adam import PropagationParams\n",
    "from adam import OpmParams\n",
    "from adam import BatchRunManager\n",
    "from adam import ConfigManager\n",
    "from adam import Service\n",
    "\n",
    "import datetime\n",
    "import os\n",
    "import pandas as pd"
   ]
  },
  {
   "cell_type": "code",
   "execution_count": 3,
   "metadata": {},
   "outputs": [
    {
     "name": "stdout",
     "output_type": "stream",
     "text": [
      "Changing adam home path to =  /Users/macuser/adam_home\n"
     ]
    }
   ],
   "source": [
    "# Set up adam paths\n",
    "ADAMpaths = adam_config.setPaths.initPaths(adam_home_defined)"
   ]
  },
  {
   "cell_type": "code",
   "execution_count": 4,
   "metadata": {},
   "outputs": [],
   "source": [
    "#Attempts to read config that is already set up from an adam_config.json file in adam_home/config directory.\n",
    "#Feel free to point it somewhere else. If it fails to read that file, it will copy the template from adam.\n",
    "config_file  = ADAMpaths[3]\n",
    "template_file = ADAMpaths[2]\n",
    "\n",
    "try:\n",
    "    f = open(config_file)\n",
    "    f.close()\n",
    "except:\n",
    "    copyfile(template_file, config_file)"
   ]
  },
  {
   "cell_type": "markdown",
   "metadata": {},
   "source": [
    "This sets up a Service which uses the given token and URL to provide authorized access through the server through several wrapped modules. It also creates a project for you to work in that will be used for the rest of the notebook. Be sure to run service.teardown() when finished. \n",
    "\n",
    "If you don't have a config, see config_demo to get one."
   ]
  },
  {
   "cell_type": "code",
   "execution_count": 5,
   "metadata": {},
   "outputs": [
    {
     "name": "stdout",
     "output_type": "stream",
     "text": [
      "[0.493794] Setup\n"
     ]
    },
    {
     "data": {
      "text/plain": [
       "True"
      ]
     },
     "execution_count": 5,
     "metadata": {},
     "output_type": "execute_result"
    }
   ],
   "source": [
    "# Reads your config from a file in current directory. For instructions on setting this up, see config_demo notebook.\n",
    "# config = ConfigManager(os.getcwd() + '/config.json').get_config()\n",
    "config_manager = ConfigManager(config_file)\n",
    "config = config_manager.get_config()\n",
    "service = Service(config)\n",
    "service.setup()"
   ]
  },
  {
   "cell_type": "code",
   "execution_count": 6,
   "metadata": {},
   "outputs": [
    {
     "name": "stdout",
     "output_type": "stream",
     "text": [
      "Set up project with uuid 6e67bb43-d54f-4a7c-82bb-f6a3ad49a8d9\n",
      "[1.450103] Generate working project\n"
     ]
    }
   ],
   "source": [
    "working_project = service.new_working_project()"
   ]
  },
  {
   "cell_type": "markdown",
   "metadata": {},
   "source": [
    "This function creates a propagation object. For now, it just creates a dummy object with slight variations to avoid creating duplicate objects. For detailed information on Batch creation, see test_single_batch_run notebook."
   ]
  },
  {
   "cell_type": "code",
   "execution_count": 7,
   "metadata": {},
   "outputs": [],
   "source": [
    "def get_batch(i):\n",
    "    state_vec = [130347560.13690618,\n",
    "                 -74407287.6018632,\n",
    "                 -35247598.541470632,\n",
    "                 23.935241263310683,\n",
    "                 27.146279819258538,\n",
    "                 10.346605942591514]\n",
    "    \n",
    "    start_time = datetime.datetime(2018, 2, 21, 0, 0, 0, 123456 + i)\n",
    "    end_time = datetime.datetime(2028, 2, 21, 0, 0, 0, 123456 + i)  # Ten years later.\n",
    "    \n",
    "    return Batch(PropagationParams({\n",
    "        'start_time': start_time.isoformat() + 'Z',\n",
    "        'end_time': end_time.isoformat() + 'Z',\n",
    "        'project_uuid': working_project.get_uuid(),\n",
    "    }), OpmParams({\n",
    "        'epoch': start_time.isoformat() + 'Z',\n",
    "        'state_vector': state_vec,\n",
    "        'mass': 500 + i,  # Create a small variation between batches.\n",
    "    }))"
   ]
  },
  {
   "cell_type": "markdown",
   "metadata": {},
   "source": [
    "This creates a large number of batch runs and propagates them. This'll probably take ~10 minutes. It'll be faster to run the second time because the server is already all scaled up."
   ]
  },
  {
   "cell_type": "code",
   "execution_count": 8,
   "metadata": {},
   "outputs": [
    {
     "name": "stdout",
     "output_type": "stream",
     "text": [
      "[0.887784] Submitting 10 runs.\n",
      "[31.218048] Running.\n",
      "[2.446075] Retrieving propagation results.\n"
     ]
    }
   ],
   "source": [
    "num_batches = 1000\n",
    "batches = [get_batch(i) for i in range(num_batches)]\n",
    "\n",
    "batch_run_manager = BatchRunManager(service.get_batches_module(), batches)\n",
    "batch_run_manager.run()"
   ]
  },
  {
   "cell_type": "markdown",
   "metadata": {},
   "source": [
    "TODO(laura): This is actually not true because python notebooks do not run cells simultaneously. There are ways to make this work. Do it.\n",
    "\n",
    "To view the status of your runs while they're propagating, run this."
   ]
  },
  {
   "cell_type": "code",
   "execution_count": 9,
   "metadata": {},
   "outputs": [
    {
     "data": {
      "text/html": [
       "<style  type=\"text/css\" >\n",
       "</style>  \n",
       "<table id=\"T_c41bcee2_249b_11e9_b8cf_10ddb1d831d8\" > \n",
       "<thead>    <tr> \n",
       "        <th class=\"col_heading level0 col0\" >Task</th> \n",
       "        <th class=\"col_heading level0 col1\" >Status</th> \n",
       "    </tr></thead> \n",
       "<tbody>    <tr> \n",
       "        <td id=\"T_c41bcee2_249b_11e9_b8cf_10ddb1d831d8row0_col0\" class=\"data row0 col0\" >PENDING</td> \n",
       "        <td id=\"T_c41bcee2_249b_11e9_b8cf_10ddb1d831d8row0_col1\" class=\"data row0 col1\" >0</td> \n",
       "    </tr>    <tr> \n",
       "        <td id=\"T_c41bcee2_249b_11e9_b8cf_10ddb1d831d8row1_col0\" class=\"data row1 col0\" >RUNNING</td> \n",
       "        <td id=\"T_c41bcee2_249b_11e9_b8cf_10ddb1d831d8row1_col1\" class=\"data row1 col1\" >0</td> \n",
       "    </tr>    <tr> \n",
       "        <td id=\"T_c41bcee2_249b_11e9_b8cf_10ddb1d831d8row2_col0\" class=\"data row2 col0\" >COMPLETED</td> \n",
       "        <td id=\"T_c41bcee2_249b_11e9_b8cf_10ddb1d831d8row2_col1\" class=\"data row2 col1\" >10</td> \n",
       "    </tr>    <tr> \n",
       "        <td id=\"T_c41bcee2_249b_11e9_b8cf_10ddb1d831d8row3_col0\" class=\"data row3 col0\" >FAILED</td> \n",
       "        <td id=\"T_c41bcee2_249b_11e9_b8cf_10ddb1d831d8row3_col1\" class=\"data row3 col1\" >0</td> \n",
       "    </tr></tbody> \n",
       "</table> "
      ],
      "text/plain": [
       "<pandas.io.formats.style.Styler at 0x10dbcdef0>"
      ]
     },
     "execution_count": 9,
     "metadata": {},
     "output_type": "execute_result"
    }
   ],
   "source": [
    "status = batch_run_manager.get_latest_statuses()\n",
    "status_counts = [[s, len(status[s])] for s in status]\n",
    "df = pd.DataFrame(status_counts, columns=['Task', 'Status'])\n",
    "df.style.hide_index()"
   ]
  },
  {
   "cell_type": "markdown",
   "metadata": {},
   "source": [
    "Once the batches are all done propagating, you can view their results."
   ]
  },
  {
   "cell_type": "code",
   "execution_count": 10,
   "metadata": {},
   "outputs": [],
   "source": [
    "for batch in batches:\n",
    "    if batch.get_calc_state() == 'FAILED':\n",
    "        error = 'unknown error'\n",
    "        if batch.get_results() is not None and batch.get_results().get_parts()[0] is not None:\n",
    "            error = batch.get_results().get_parts()[0].get_error()\n",
    "        #print('Batch %s failed: %s' % (batch.get_uuid(), error))\n",
    "    else:\n",
    "        final_state_vector = batch.get_results().get_end_state_vector()\n",
    "        #print('Batch %s ended at %s' % (batch.get_uuid(), final_state_vector))#"
   ]
  },
  {
   "cell_type": "code",
   "execution_count": 11,
   "metadata": {},
   "outputs": [
    {
     "data": {
      "text/html": [
       "<style  type=\"text/css\" >\n",
       "</style>  \n",
       "<table id=\"T_c85361fa_249b_11e9_9473_10ddb1d831d8\" ><caption>Batch UUID vs. Final State Vector</caption> \n",
       "<thead>    <tr> \n",
       "        <th class=\"blank level0\" ></th> \n",
       "        <th class=\"col_heading level0 col0\" >Rx</th> \n",
       "        <th class=\"col_heading level0 col1\" >Ry</th> \n",
       "        <th class=\"col_heading level0 col2\" >Rz</th> \n",
       "        <th class=\"col_heading level0 col3\" >Vx</th> \n",
       "        <th class=\"col_heading level0 col4\" >Vy</th> \n",
       "        <th class=\"col_heading level0 col5\" >Vz</th> \n",
       "    </tr></thead> \n",
       "<tbody>    <tr> \n",
       "        <th id=\"T_c85361fa_249b_11e9_9473_10ddb1d831d8level0_row0\" class=\"row_heading level0 row0\" >5684a8c5-8cf9-4cbe-acf1-b0f2f085b046</th> \n",
       "        <td id=\"T_c85361fa_249b_11e9_9473_10ddb1d831d8row0_col0\" class=\"data row0 col0\" >1.73793e+08</td> \n",
       "        <td id=\"T_c85361fa_249b_11e9_9473_10ddb1d831d8row0_col1\" class=\"data row0 col1\" >3.00881e+06</td> \n",
       "        <td id=\"T_c85361fa_249b_11e9_9473_10ddb1d831d8row0_col2\" class=\"data row0 col2\" >-4.88971e+06</td> \n",
       "        <td id=\"T_c85361fa_249b_11e9_9473_10ddb1d831d8row0_col3\" class=\"data row0 col3\" >11.6743</td> \n",
       "        <td id=\"T_c85361fa_249b_11e9_9473_10ddb1d831d8row0_col4\" class=\"data row0 col4\" >30.583</td> \n",
       "        <td id=\"T_c85361fa_249b_11e9_9473_10ddb1d831d8row0_col5\" class=\"data row0 col5\" >12.1901</td> \n",
       "    </tr>    <tr> \n",
       "        <th id=\"T_c85361fa_249b_11e9_9473_10ddb1d831d8level0_row1\" class=\"row_heading level0 row1\" >235ea4b8-0ef6-4346-adb2-5ed3bd96598d</th> \n",
       "        <td id=\"T_c85361fa_249b_11e9_9473_10ddb1d831d8row1_col0\" class=\"data row1 col0\" >1.73793e+08</td> \n",
       "        <td id=\"T_c85361fa_249b_11e9_9473_10ddb1d831d8row1_col1\" class=\"data row1 col1\" >3.00881e+06</td> \n",
       "        <td id=\"T_c85361fa_249b_11e9_9473_10ddb1d831d8row1_col2\" class=\"data row1 col2\" >-4.88971e+06</td> \n",
       "        <td id=\"T_c85361fa_249b_11e9_9473_10ddb1d831d8row1_col3\" class=\"data row1 col3\" >11.6743</td> \n",
       "        <td id=\"T_c85361fa_249b_11e9_9473_10ddb1d831d8row1_col4\" class=\"data row1 col4\" >30.583</td> \n",
       "        <td id=\"T_c85361fa_249b_11e9_9473_10ddb1d831d8row1_col5\" class=\"data row1 col5\" >12.1901</td> \n",
       "    </tr>    <tr> \n",
       "        <th id=\"T_c85361fa_249b_11e9_9473_10ddb1d831d8level0_row2\" class=\"row_heading level0 row2\" >6f7910a8-ac18-4274-8b67-b7e5c5495362</th> \n",
       "        <td id=\"T_c85361fa_249b_11e9_9473_10ddb1d831d8row2_col0\" class=\"data row2 col0\" >1.73793e+08</td> \n",
       "        <td id=\"T_c85361fa_249b_11e9_9473_10ddb1d831d8row2_col1\" class=\"data row2 col1\" >3.00881e+06</td> \n",
       "        <td id=\"T_c85361fa_249b_11e9_9473_10ddb1d831d8row2_col2\" class=\"data row2 col2\" >-4.88971e+06</td> \n",
       "        <td id=\"T_c85361fa_249b_11e9_9473_10ddb1d831d8row2_col3\" class=\"data row2 col3\" >11.6743</td> \n",
       "        <td id=\"T_c85361fa_249b_11e9_9473_10ddb1d831d8row2_col4\" class=\"data row2 col4\" >30.583</td> \n",
       "        <td id=\"T_c85361fa_249b_11e9_9473_10ddb1d831d8row2_col5\" class=\"data row2 col5\" >12.1901</td> \n",
       "    </tr>    <tr> \n",
       "        <th id=\"T_c85361fa_249b_11e9_9473_10ddb1d831d8level0_row3\" class=\"row_heading level0 row3\" >1e8ad900-e7f4-4eb1-bc24-c47a53f4b9ff</th> \n",
       "        <td id=\"T_c85361fa_249b_11e9_9473_10ddb1d831d8row3_col0\" class=\"data row3 col0\" >1.73793e+08</td> \n",
       "        <td id=\"T_c85361fa_249b_11e9_9473_10ddb1d831d8row3_col1\" class=\"data row3 col1\" >3.00881e+06</td> \n",
       "        <td id=\"T_c85361fa_249b_11e9_9473_10ddb1d831d8row3_col2\" class=\"data row3 col2\" >-4.88971e+06</td> \n",
       "        <td id=\"T_c85361fa_249b_11e9_9473_10ddb1d831d8row3_col3\" class=\"data row3 col3\" >11.6743</td> \n",
       "        <td id=\"T_c85361fa_249b_11e9_9473_10ddb1d831d8row3_col4\" class=\"data row3 col4\" >30.583</td> \n",
       "        <td id=\"T_c85361fa_249b_11e9_9473_10ddb1d831d8row3_col5\" class=\"data row3 col5\" >12.1901</td> \n",
       "    </tr>    <tr> \n",
       "        <th id=\"T_c85361fa_249b_11e9_9473_10ddb1d831d8level0_row4\" class=\"row_heading level0 row4\" >51912a35-70e8-4b62-8828-9197b25e9530</th> \n",
       "        <td id=\"T_c85361fa_249b_11e9_9473_10ddb1d831d8row4_col0\" class=\"data row4 col0\" >1.73793e+08</td> \n",
       "        <td id=\"T_c85361fa_249b_11e9_9473_10ddb1d831d8row4_col1\" class=\"data row4 col1\" >3.00881e+06</td> \n",
       "        <td id=\"T_c85361fa_249b_11e9_9473_10ddb1d831d8row4_col2\" class=\"data row4 col2\" >-4.88971e+06</td> \n",
       "        <td id=\"T_c85361fa_249b_11e9_9473_10ddb1d831d8row4_col3\" class=\"data row4 col3\" >11.6743</td> \n",
       "        <td id=\"T_c85361fa_249b_11e9_9473_10ddb1d831d8row4_col4\" class=\"data row4 col4\" >30.583</td> \n",
       "        <td id=\"T_c85361fa_249b_11e9_9473_10ddb1d831d8row4_col5\" class=\"data row4 col5\" >12.1901</td> \n",
       "    </tr>    <tr> \n",
       "        <th id=\"T_c85361fa_249b_11e9_9473_10ddb1d831d8level0_row5\" class=\"row_heading level0 row5\" >2ac0822f-9244-491a-ad8e-521456b1bf5e</th> \n",
       "        <td id=\"T_c85361fa_249b_11e9_9473_10ddb1d831d8row5_col0\" class=\"data row5 col0\" >1.73793e+08</td> \n",
       "        <td id=\"T_c85361fa_249b_11e9_9473_10ddb1d831d8row5_col1\" class=\"data row5 col1\" >3.00881e+06</td> \n",
       "        <td id=\"T_c85361fa_249b_11e9_9473_10ddb1d831d8row5_col2\" class=\"data row5 col2\" >-4.88971e+06</td> \n",
       "        <td id=\"T_c85361fa_249b_11e9_9473_10ddb1d831d8row5_col3\" class=\"data row5 col3\" >11.6743</td> \n",
       "        <td id=\"T_c85361fa_249b_11e9_9473_10ddb1d831d8row5_col4\" class=\"data row5 col4\" >30.583</td> \n",
       "        <td id=\"T_c85361fa_249b_11e9_9473_10ddb1d831d8row5_col5\" class=\"data row5 col5\" >12.1901</td> \n",
       "    </tr>    <tr> \n",
       "        <th id=\"T_c85361fa_249b_11e9_9473_10ddb1d831d8level0_row6\" class=\"row_heading level0 row6\" >0724f646-e47d-427b-9d23-d6df9386ae72</th> \n",
       "        <td id=\"T_c85361fa_249b_11e9_9473_10ddb1d831d8row6_col0\" class=\"data row6 col0\" >1.73793e+08</td> \n",
       "        <td id=\"T_c85361fa_249b_11e9_9473_10ddb1d831d8row6_col1\" class=\"data row6 col1\" >3.00881e+06</td> \n",
       "        <td id=\"T_c85361fa_249b_11e9_9473_10ddb1d831d8row6_col2\" class=\"data row6 col2\" >-4.88971e+06</td> \n",
       "        <td id=\"T_c85361fa_249b_11e9_9473_10ddb1d831d8row6_col3\" class=\"data row6 col3\" >11.6743</td> \n",
       "        <td id=\"T_c85361fa_249b_11e9_9473_10ddb1d831d8row6_col4\" class=\"data row6 col4\" >30.583</td> \n",
       "        <td id=\"T_c85361fa_249b_11e9_9473_10ddb1d831d8row6_col5\" class=\"data row6 col5\" >12.1901</td> \n",
       "    </tr>    <tr> \n",
       "        <th id=\"T_c85361fa_249b_11e9_9473_10ddb1d831d8level0_row7\" class=\"row_heading level0 row7\" >97b87360-4708-49c2-9a4b-07139db852b1</th> \n",
       "        <td id=\"T_c85361fa_249b_11e9_9473_10ddb1d831d8row7_col0\" class=\"data row7 col0\" >1.73793e+08</td> \n",
       "        <td id=\"T_c85361fa_249b_11e9_9473_10ddb1d831d8row7_col1\" class=\"data row7 col1\" >3.00881e+06</td> \n",
       "        <td id=\"T_c85361fa_249b_11e9_9473_10ddb1d831d8row7_col2\" class=\"data row7 col2\" >-4.88971e+06</td> \n",
       "        <td id=\"T_c85361fa_249b_11e9_9473_10ddb1d831d8row7_col3\" class=\"data row7 col3\" >11.6743</td> \n",
       "        <td id=\"T_c85361fa_249b_11e9_9473_10ddb1d831d8row7_col4\" class=\"data row7 col4\" >30.583</td> \n",
       "        <td id=\"T_c85361fa_249b_11e9_9473_10ddb1d831d8row7_col5\" class=\"data row7 col5\" >12.1901</td> \n",
       "    </tr>    <tr> \n",
       "        <th id=\"T_c85361fa_249b_11e9_9473_10ddb1d831d8level0_row8\" class=\"row_heading level0 row8\" >2b569512-5e7e-4c5b-80f5-da839131eb3b</th> \n",
       "        <td id=\"T_c85361fa_249b_11e9_9473_10ddb1d831d8row8_col0\" class=\"data row8 col0\" >1.73793e+08</td> \n",
       "        <td id=\"T_c85361fa_249b_11e9_9473_10ddb1d831d8row8_col1\" class=\"data row8 col1\" >3.00881e+06</td> \n",
       "        <td id=\"T_c85361fa_249b_11e9_9473_10ddb1d831d8row8_col2\" class=\"data row8 col2\" >-4.88971e+06</td> \n",
       "        <td id=\"T_c85361fa_249b_11e9_9473_10ddb1d831d8row8_col3\" class=\"data row8 col3\" >11.6743</td> \n",
       "        <td id=\"T_c85361fa_249b_11e9_9473_10ddb1d831d8row8_col4\" class=\"data row8 col4\" >30.583</td> \n",
       "        <td id=\"T_c85361fa_249b_11e9_9473_10ddb1d831d8row8_col5\" class=\"data row8 col5\" >12.1901</td> \n",
       "    </tr>    <tr> \n",
       "        <th id=\"T_c85361fa_249b_11e9_9473_10ddb1d831d8level0_row9\" class=\"row_heading level0 row9\" >2ce77341-7ba0-451f-b4a6-001b7cd952de</th> \n",
       "        <td id=\"T_c85361fa_249b_11e9_9473_10ddb1d831d8row9_col0\" class=\"data row9 col0\" >1.73793e+08</td> \n",
       "        <td id=\"T_c85361fa_249b_11e9_9473_10ddb1d831d8row9_col1\" class=\"data row9 col1\" >3.00881e+06</td> \n",
       "        <td id=\"T_c85361fa_249b_11e9_9473_10ddb1d831d8row9_col2\" class=\"data row9 col2\" >-4.88971e+06</td> \n",
       "        <td id=\"T_c85361fa_249b_11e9_9473_10ddb1d831d8row9_col3\" class=\"data row9 col3\" >11.6743</td> \n",
       "        <td id=\"T_c85361fa_249b_11e9_9473_10ddb1d831d8row9_col4\" class=\"data row9 col4\" >30.583</td> \n",
       "        <td id=\"T_c85361fa_249b_11e9_9473_10ddb1d831d8row9_col5\" class=\"data row9 col5\" >12.1901</td> \n",
       "    </tr></tbody> \n",
       "</table> "
      ],
      "text/plain": [
       "<pandas.io.formats.style.Styler at 0x10f1c2e48>"
      ]
     },
     "execution_count": 11,
     "metadata": {},
     "output_type": "execute_result"
    }
   ],
   "source": [
    "batch_dict = { batch.get_uuid() : batch.get_results().get_end_state_vector() for batch in batches }\n",
    "df = pd.DataFrame.from_dict(batch_dict,orient='index', columns=['Rx','Ry','Rz', 'Vx', 'Vy', 'Vz'])\n",
    "df.style.set_caption('Batch UUID vs. Final State Vector')"
   ]
  },
  {
   "cell_type": "markdown",
   "metadata": {},
   "source": [
    "That's it! Please clean up by running the following:\n"
   ]
  },
  {
   "cell_type": "code",
   "execution_count": 12,
   "metadata": {},
   "outputs": [
    {
     "data": {
      "text/html": [
       "<style  type=\"text/css\" >\n",
       "</style>  \n",
       "<table id=\"T_d33898d8_249b_11e9_9502_10ddb1d831d8\" ><caption>Batch UUID vs. Error</caption> \n",
       "<thead>    <tr> \n",
       "        <th class=\"blank level0\" ></th> \n",
       "        <th class=\"col_heading level0 col0\" >Error</th> \n",
       "    </tr></thead> \n",
       "<tbody>    <tr> \n",
       "        <th id=\"T_d33898d8_249b_11e9_9502_10ddb1d831d8level0_row0\" class=\"row_heading level0 row0\" >5684a8c5-8cf9-4cbe-acf1-b0f2f085b046</th> \n",
       "        <td id=\"T_d33898d8_249b_11e9_9502_10ddb1d831d8row0_col0\" class=\"data row0 col0\" >None</td> \n",
       "    </tr>    <tr> \n",
       "        <th id=\"T_d33898d8_249b_11e9_9502_10ddb1d831d8level0_row1\" class=\"row_heading level0 row1\" >235ea4b8-0ef6-4346-adb2-5ed3bd96598d</th> \n",
       "        <td id=\"T_d33898d8_249b_11e9_9502_10ddb1d831d8row1_col0\" class=\"data row1 col0\" >None</td> \n",
       "    </tr>    <tr> \n",
       "        <th id=\"T_d33898d8_249b_11e9_9502_10ddb1d831d8level0_row2\" class=\"row_heading level0 row2\" >6f7910a8-ac18-4274-8b67-b7e5c5495362</th> \n",
       "        <td id=\"T_d33898d8_249b_11e9_9502_10ddb1d831d8row2_col0\" class=\"data row2 col0\" >None</td> \n",
       "    </tr>    <tr> \n",
       "        <th id=\"T_d33898d8_249b_11e9_9502_10ddb1d831d8level0_row3\" class=\"row_heading level0 row3\" >1e8ad900-e7f4-4eb1-bc24-c47a53f4b9ff</th> \n",
       "        <td id=\"T_d33898d8_249b_11e9_9502_10ddb1d831d8row3_col0\" class=\"data row3 col0\" >None</td> \n",
       "    </tr>    <tr> \n",
       "        <th id=\"T_d33898d8_249b_11e9_9502_10ddb1d831d8level0_row4\" class=\"row_heading level0 row4\" >51912a35-70e8-4b62-8828-9197b25e9530</th> \n",
       "        <td id=\"T_d33898d8_249b_11e9_9502_10ddb1d831d8row4_col0\" class=\"data row4 col0\" >None</td> \n",
       "    </tr>    <tr> \n",
       "        <th id=\"T_d33898d8_249b_11e9_9502_10ddb1d831d8level0_row5\" class=\"row_heading level0 row5\" >2ac0822f-9244-491a-ad8e-521456b1bf5e</th> \n",
       "        <td id=\"T_d33898d8_249b_11e9_9502_10ddb1d831d8row5_col0\" class=\"data row5 col0\" >None</td> \n",
       "    </tr>    <tr> \n",
       "        <th id=\"T_d33898d8_249b_11e9_9502_10ddb1d831d8level0_row6\" class=\"row_heading level0 row6\" >0724f646-e47d-427b-9d23-d6df9386ae72</th> \n",
       "        <td id=\"T_d33898d8_249b_11e9_9502_10ddb1d831d8row6_col0\" class=\"data row6 col0\" >None</td> \n",
       "    </tr>    <tr> \n",
       "        <th id=\"T_d33898d8_249b_11e9_9502_10ddb1d831d8level0_row7\" class=\"row_heading level0 row7\" >97b87360-4708-49c2-9a4b-07139db852b1</th> \n",
       "        <td id=\"T_d33898d8_249b_11e9_9502_10ddb1d831d8row7_col0\" class=\"data row7 col0\" >None</td> \n",
       "    </tr>    <tr> \n",
       "        <th id=\"T_d33898d8_249b_11e9_9502_10ddb1d831d8level0_row8\" class=\"row_heading level0 row8\" >2b569512-5e7e-4c5b-80f5-da839131eb3b</th> \n",
       "        <td id=\"T_d33898d8_249b_11e9_9502_10ddb1d831d8row8_col0\" class=\"data row8 col0\" >None</td> \n",
       "    </tr>    <tr> \n",
       "        <th id=\"T_d33898d8_249b_11e9_9502_10ddb1d831d8level0_row9\" class=\"row_heading level0 row9\" >2ce77341-7ba0-451f-b4a6-001b7cd952de</th> \n",
       "        <td id=\"T_d33898d8_249b_11e9_9502_10ddb1d831d8row9_col0\" class=\"data row9 col0\" >None</td> \n",
       "    </tr></tbody> \n",
       "</table> "
      ],
      "text/plain": [
       "<pandas.io.formats.style.Styler at 0x10f1c2fd0>"
      ]
     },
     "execution_count": 12,
     "metadata": {},
     "output_type": "execute_result"
    }
   ],
   "source": [
    "batch_dict = { batch.get_uuid() : batch.get_results().get_parts()[0].get_error() for batch in batches }\n",
    "df = pd.DataFrame.from_dict(batch_dict,orient='index', columns=['Error'])\n",
    "df.style.set_caption('Batch UUID vs. Error')"
   ]
  },
  {
   "cell_type": "code",
   "execution_count": 13,
   "metadata": {},
   "outputs": [
    {
     "name": "stdout",
     "output_type": "stream",
     "text": [
      "Cleaning up working project 6e67bb43-d54f-4a7c-82bb-f6a3ad49a8d9...\n",
      "[0.973213] Teardown\n"
     ]
    }
   ],
   "source": [
    "service.teardown()"
   ]
  },
  {
   "cell_type": "code",
   "execution_count": null,
   "metadata": {},
   "outputs": [],
   "source": []
  }
 ],
 "metadata": {
  "kernelspec": {
   "display_name": "Python 3",
   "language": "python",
   "name": "python3"
  },
  "language_info": {
   "codemirror_mode": {
    "name": "ipython",
    "version": 3
   },
   "file_extension": ".py",
   "mimetype": "text/x-python",
   "name": "python",
   "nbconvert_exporter": "python",
   "pygments_lexer": "ipython3",
   "version": "3.6.4"
  }
 },
 "nbformat": 4,
 "nbformat_minor": 2
}
