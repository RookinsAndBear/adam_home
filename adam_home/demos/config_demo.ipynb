{
 "cells": [
  {
   "cell_type": "markdown",
   "metadata": {},
   "source": [
    "## Configuration and authentication demo\n",
    "\n",
    "This notebook demonstrates how to generate your config file. The most complicated part of this is generating a token that can be passed to the ADAM REST server for access to API methods."
   ]
  },
  {
   "cell_type": "code",
   "execution_count": 1,
   "metadata": {},
   "outputs": [],
   "source": [
    "import sys\n",
    "from os.path import expanduser\n",
    "\n",
    "# default adam location - alter directory structure if you decide to use a different path\n",
    "# for example: adam_home_defined = expanduser(\"~\") + \"your_project_name/scenario1/adam_home\"\n",
    "adam_home_defined = expanduser(\"~\") + \"/adam_home\" # default location\n",
    "\n",
    "# Add adam path to system in order to import adam\n",
    "sys.path.append(adam_home_defined)\n",
    "# import adam and adam modules required\n",
    "import adam\n",
    "from adam import adam_config\n",
    "from adam import Auth\n",
    "from adam import ConfigManager\n",
    "from adam import RestRequests\n",
    "\n",
    "import webbrowser\n",
    "import urllib\n",
    "import os\n",
    "from shutil import copyfile"
   ]
  },
  {
   "cell_type": "code",
   "execution_count": 2,
   "metadata": {},
   "outputs": [
    {
     "name": "stdout",
     "output_type": "stream",
     "text": [
      "Changing adam home path to =  C:\\Users\\macuser/adam_home\n"
     ]
    }
   ],
   "source": [
    "# Set up adam paths\n",
    "ADAMpaths = adam_config.setPaths.initPaths(adam_home_defined)"
   ]
  },
  {
   "cell_type": "markdown",
   "metadata": {},
   "source": [
    "Attempts to read config that is already set up from a config.json file in your working directory. Feel free to point it somewhere else. If it fails to read that file, it will copy the template from adam."
   ]
  },
  {
   "cell_type": "code",
   "execution_count": 3,
   "metadata": {},
   "outputs": [
    {
     "name": "stdout",
     "output_type": "stream",
     "text": [
      "adam_path =  C:\\Users\\macuser/adam_home/\n",
      "data_path =  C:\\Users\\macuser/adam_home/data\n",
      "env_template_path =  C:\\Users\\macuser/adam_home/config/adam_config_template.json\n",
      "env_config_path =  C:\\Users\\macuser/adam_home/config/adam_config.json\n",
      "ephem_path =  C:\\Users\\macuser/adam_home/data/ephem\n",
      "MY_functions_path =  C:\\Users\\macuser/adam_home/MY_functions\n"
     ]
    }
   ],
   "source": [
    "# Print paths from adam_config.py\n",
    "print(\"adam_path = \", ADAMpaths[0])\n",
    "print(\"data_path = \", ADAMpaths[1])\n",
    "print(\"env_template_path = \", ADAMpaths[2])\n",
    "print(\"env_config_path = \", ADAMpaths[3])\n",
    "print(\"ephem_path = \", ADAMpaths[4])\n",
    "print(\"MY_functions_path = \", ADAMpaths[5])"
   ]
  },
  {
   "cell_type": "code",
   "execution_count": 4,
   "metadata": {},
   "outputs": [],
   "source": [
    "#Attempts to read config that is already set up from an adam_config.json file in adam_home/config directory.\n",
    "#Feel free to point it somewhere else. If it fails to read that file, it will copy the template from adam.\n",
    "config_file  = ADAMpaths[3]\n",
    "template_file = ADAMpaths[2]\n",
    "\n",
    "try:\n",
    "    f = open(config_file)\n",
    "    f.close()\n",
    "except:\n",
    "    copyfile(template_file, config_file)\n",
    "\n",
    "config_manager = ConfigManager(config_file)\n",
    "config = config_manager.get_config()"
   ]
  },
  {
   "cell_type": "markdown",
   "metadata": {},
   "source": [
    "Now attempt to authenticate with the token in the config. If that fails, it tries to reauthenticate. This is a flow that directs a user to a page where they can log in and get a token. If that new token works, this will update the config file so the token can be used next time."
   ]
  },
  {
   "cell_type": "code",
   "execution_count": 5,
   "metadata": {},
   "outputs": [],
   "source": [
    "url = config.get_url()\n",
    "rest = RestRequests(url)\n",
    "auth = Auth(rest)"
   ]
  },
  {
   "cell_type": "code",
   "execution_count": 6,
   "metadata": {},
   "outputs": [
    {
     "name": "stdout",
     "output_type": "stream",
     "text": [
      "Welcome, emmie.king@gmail.com\n"
     ]
    }
   ],
   "source": [
    "token = config.get_token()\n",
    "\n",
    "try:\n",
    "    auth.authenticate(token)\n",
    "    if auth.get_logged_in():\n",
    "        print('Welcome, ' + auth.get_user())\n",
    "    else:\n",
    "        input(\"A website will pop up and you will be given options to log in to \"\n",
    "              \"retrieve a token. Please copy the token and return here. Press enter to show popup and continue...\")\n",
    "        o = urllib.parse.urlparse(url)\n",
    "        token_url = \"%s://%s/%s\" % (o.scheme, o.netloc, 'token.html')  # Yes, seriously. This is how it's done.\n",
    "        webbrowser.open(token_url)\n",
    "        \n",
    "        token = input(\"Token: \")\n",
    "        print('\\n')\n",
    "        if auth.authenticate(token):\n",
    "            config.set_token(auth.get_token())\n",
    "            config_manager.to_file(config_file)\n",
    "            print('Updated config file with token for ' + url)\n",
    "            print('Welcome, ' + auth.get_user())\n",
    "        else:\n",
    "            print('Could not authenticate user.')\n",
    "except RuntimeError as e:\n",
    "    print('Encountered server error while attempting to authenticate: ' + str(e))"
   ]
  },
  {
   "cell_type": "markdown",
   "metadata": {},
   "source": [
    "If authentication was successful, the token can now be used for any API method requiring authentication."
   ]
  },
  {
   "cell_type": "markdown",
   "metadata": {},
   "source": [
    "Now an easy extra part. Do you have a workspace project? Enter its uuid here. It will be used as a parent of any temporary working projects created."
   ]
  },
  {
   "cell_type": "code",
   "execution_count": null,
   "metadata": {},
   "outputs": [],
   "source": [
    "# If you need some help finding the uuid, try the following (it might take a few seconds):\n",
    "# from adam import Projects\n",
    "# from adam import AuthenticatingRestProxy\n",
    "# Projects(AuthenticatingRestProxy(RestRequests(config.get_url()), token)).print_projects()\n",
    "\n",
    "# workspace = input('Workspace project UUID: ')\n",
    "# config.set_workspace(workspace)\n",
    "# config_manager.to_file(config_file)"
   ]
  },
  {
   "cell_type": "code",
   "execution_count": 10,
   "metadata": {},
   "outputs": [
    {
     "name": "stdout",
     "output_type": "stream",
     "text": [
      "Directory created for TODAY's generated data: C:\\Users\\macuser/adam_home/data/demo_test_output_2018_11_09\n"
     ]
    }
   ],
   "source": [
    "# esc + y = enable this cell (esc + r = disable cell)\n",
    "# Test demo paths with data output\n",
    "#-- # THIS BLOCK WILL CREATE A NEW FOLDER EACH # TIME IT IS RUN - Daily resolution #--\n",
    "from datetime import datetime \n",
    "\n",
    "# User add file name for generated data files\n",
    "user_folder_name = 'demo_test_output' \n",
    "\n",
    "# Add 8 character time stamp (YYYYMMDD) with data directory path \n",
    "data_folder = ADAMpaths[1] + '/' + user_folder_name + '_'+ datetime.now().strftime(\"%Y_%m_%d\") \n",
    "\n",
    "# Create data_folder with specified project name \n",
    "if not os.path.isdir(data_folder): \n",
    "    os.mkdir(data_folder)    \n",
    "    print(\"Directory created for TODAY's generated data: \" +    data_folder) \n",
    "else: \n",
    "    print(\"Directory \" + data_folder + \" already exists.\" )"
   ]
  },
  {
   "cell_type": "code",
   "execution_count": null,
   "metadata": {},
   "outputs": [],
   "source": []
  }
 ],
 "metadata": {
  "kernelspec": {
   "display_name": "python3",
   "language": "python",
   "name": "python3"
  },
  "language_info": {
   "codemirror_mode": {
    "name": "ipython",
    "version": 3
   },
   "file_extension": ".py",
   "mimetype": "text/x-python",
   "name": "python",
   "nbconvert_exporter": "python",
   "pygments_lexer": "ipython3",
   "version": "3.6.4"
  }
 },
 "nbformat": 4,
 "nbformat_minor": 2
}
