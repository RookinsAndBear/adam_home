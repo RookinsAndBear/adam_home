{
 "cells": [
  {
   "cell_type": "markdown",
   "metadata": {},
   "source": [
    "## This notebook demonstrates how to propagate an orbit back in time, then compute a state transition matrix on the forward propagation"
   ]
  },
  {
   "cell_type": "code",
   "execution_count": 1,
   "metadata": {},
   "outputs": [],
   "source": [
    "import sys\n",
    "from os.path import expanduser\n",
    "\n",
    "# default adam location - alter directory structure if you decide to use a different path\n",
    "# for example: adam_home_defined = expanduser(\"~\") + \"your_project_name/scenario1/adam_home\"\n",
    "adam_home_defined = expanduser(\"~\") + \"/adam_home\" # default location\n",
    "\n",
    "# Add adam path to system in order to import adam\n",
    "sys.path.append(adam_home_defined)\n",
    "\n",
    "# import adam and adam modules required\n",
    "import adam\n",
    "from adam import adam_config"
   ]
  },
  {
   "cell_type": "code",
   "execution_count": 2,
   "metadata": {},
   "outputs": [],
   "source": [
    "from adam import Batch\n",
    "from adam import PropagationParams\n",
    "from adam import OpmParams\n",
    "from adam import BatchRunManager\n",
    "from adam import ConfigManager\n",
    "from adam import Service\n",
    "from adam import StmPropagationModule\n",
    "\n",
    "import os\n",
    "import datetime\n",
    "import numpy as np\n",
    "import numpy.testing as npt\n",
    "import pandas as pd"
   ]
  },
  {
   "cell_type": "code",
   "execution_count": 3,
   "metadata": {},
   "outputs": [
    {
     "name": "stdout",
     "output_type": "stream",
     "text": [
      "Changing adam home path to =  /Users/macuser/adam_home\n"
     ]
    }
   ],
   "source": [
    "# Set up adam paths\n",
    "ADAMpaths = adam_config.setPaths.initPaths(adam_home_defined)"
   ]
  },
  {
   "cell_type": "code",
   "execution_count": 4,
   "metadata": {},
   "outputs": [],
   "source": [
    "#Attempts to read config that is already set up from an adam_config.json file in adam_home/config directory.\n",
    "#Feel free to point it somewhere else. If it fails to read that file, it will copy the template from adam.\n",
    "config_file  = ADAMpaths[3]\n",
    "template_file = ADAMpaths[2]\n",
    "\n",
    "try:\n",
    "    f = open(config_file)\n",
    "    f.close()\n",
    "except:\n",
    "    copyfile(template_file, config_file)"
   ]
  },
  {
   "cell_type": "markdown",
   "metadata": {},
   "source": [
    "This sets up a Service which uses the given token and URL to provide authorized access through the server through several wrapped modules. It also creates a project for you to work in that will be used for the rest of the notebook. Be sure to run service.teardown() when finished. \n",
    "\n",
    "If you don't have a config, see config_demo to get one."
   ]
  },
  {
   "cell_type": "code",
   "execution_count": 5,
   "metadata": {},
   "outputs": [
    {
     "name": "stdout",
     "output_type": "stream",
     "text": [
      "[12.575406] Setup\n"
     ]
    },
    {
     "data": {
      "text/plain": [
       "True"
      ]
     },
     "execution_count": 5,
     "metadata": {},
     "output_type": "execute_result"
    }
   ],
   "source": [
    "# Reads your config from a file in current directory. For instructions on setting this up, see config_demo notebook.\n",
    "# config = ConfigManager(os.getcwd() + '/config.json').get_config()\n",
    "config_manager = ConfigManager(config_file)\n",
    "config = config_manager.get_config()\n",
    "service = Service(config)\n",
    "service.setup()"
   ]
  },
  {
   "cell_type": "code",
   "execution_count": 6,
   "metadata": {},
   "outputs": [
    {
     "name": "stdout",
     "output_type": "stream",
     "text": [
      "Set up project with uuid abe32b01-09b1-4763-80ee-75cda6f3b7c7\n",
      "[2.541897] Generate working project\n"
     ]
    }
   ],
   "source": [
    "working_project = service.new_working_project()"
   ]
  },
  {
   "cell_type": "markdown",
   "metadata": {},
   "source": [
    "### Definitions\n",
    "\n",
    "Following are definitions of all the parameters we would like to use, including regarding the asteroid, its location, and the times we want to use in our propagations."
   ]
  },
  {
   "cell_type": "code",
   "execution_count": 7,
   "metadata": {},
   "outputs": [],
   "source": [
    "asteroid_params = {\n",
    "    'mass': 500.5,              # object mass\n",
    "    'solar_rad_area': 25.2,     # object solar radiation area (m^2)\n",
    "    'solar_rad_coeff': 1.2,     # object solar radiation coefficient\n",
    "    'drag_area': 33.3,          # object drag area (m^2)\n",
    "    'drag_coeff': 2.5,          # object drag coefficient\n",
    "    'object_name': 'KillerAsteroid'\n",
    "}\n",
    "\n",
    "initial_state_vector = [1.9614856544727500000e7,\n",
    "                        1.4843205548512800000e8,\n",
    "                        5.5892860024181600000e7,\n",
    "                        -28.4909386978969000000,\n",
    "                        -5.3762767683990300000,\n",
    "                        2.5848941723961300000]\n",
    "\n",
    "propagation_time = 50 * 365 * 24 * 60 * 60  # 50 years in seconds.\n",
    "\n",
    "now = datetime.datetime(2018, 2, 21, 0, 0, 0, 123456)\n",
    "fifty_years_ago = now - datetime.timedelta(seconds=propagation_time)"
   ]
  },
  {
   "cell_type": "markdown",
   "metadata": {},
   "source": [
    "### Backwards propagation\n",
    "\n",
    "This creates and runs a propagation backwards 50 years from now."
   ]
  },
  {
   "cell_type": "code",
   "execution_count": 8,
   "metadata": {},
   "outputs": [
    {
     "name": "stdout",
     "output_type": "stream",
     "text": [
      "[0.980043] Submitting 1 runs.\n",
      "[12.989589] Running.\n",
      "[1.734956] Retrieving propagation results.\n",
      "Finished backwards propagation in state COMPLETED\n",
      "State vector fifty years ago: [-105079893.82459801, 55761751.36629267, 39539057.70658225, -14.973064259000001, -31.308238753, -9.959259069]\n"
     ]
    }
   ],
   "source": [
    "backwards_propagation = Batch(PropagationParams({\n",
    "    'start_time': now.isoformat() + 'Z',\n",
    "    'end_time': fifty_years_ago.isoformat() + 'Z',\n",
    "    'step_size': 0,  # Use adaptive step size.\n",
    "    'project_uuid': working_project.get_uuid(),\n",
    "}), OpmParams(dict(asteroid_params, **{\n",
    "    'epoch': now.isoformat() + 'Z',\n",
    "    'state_vector': initial_state_vector,\n",
    "})))\n",
    "\n",
    "batch_run_manager = BatchRunManager(service.get_batches_module(), [backwards_propagation])\n",
    "batch_run_manager.run();\n",
    "\n",
    "# Should be 'COMPLETED'.\n",
    "print('Finished backwards propagation in state %s' % (backwards_propagation.get_calc_state()))\n",
    "state_vector_fifty_years_ago = backwards_propagation.get_results().get_end_state_vector()\n",
    "print('State vector fifty years ago: %s' % state_vector_fifty_years_ago)"
   ]
  },
  {
   "cell_type": "markdown",
   "metadata": {},
   "source": [
    "TODO(laura): This is actually not true because python notebooks do not run cells simultaneously. There are ways to make this work. Do it.\n",
    "\n",
    "In case you're curious, you can run the following to get the state of your runs (in this case only backwards_propagation) while running."
   ]
  },
  {
   "cell_type": "code",
   "execution_count": 9,
   "metadata": {},
   "outputs": [
    {
     "data": {
      "text/html": [
       "<style  type=\"text/css\" >\n",
       "</style>  \n",
       "<table id=\"T_5d97b524_249a_11e9_a9bd_10ddb1d831d8\" > \n",
       "<thead>    <tr> \n",
       "        <th class=\"col_heading level0 col0\" >Task</th> \n",
       "        <th class=\"col_heading level0 col1\" >Status</th> \n",
       "    </tr></thead> \n",
       "<tbody>    <tr> \n",
       "        <td id=\"T_5d97b524_249a_11e9_a9bd_10ddb1d831d8row0_col0\" class=\"data row0 col0\" >PENDING</td> \n",
       "        <td id=\"T_5d97b524_249a_11e9_a9bd_10ddb1d831d8row0_col1\" class=\"data row0 col1\" >0</td> \n",
       "    </tr>    <tr> \n",
       "        <td id=\"T_5d97b524_249a_11e9_a9bd_10ddb1d831d8row1_col0\" class=\"data row1 col0\" >RUNNING</td> \n",
       "        <td id=\"T_5d97b524_249a_11e9_a9bd_10ddb1d831d8row1_col1\" class=\"data row1 col1\" >0</td> \n",
       "    </tr>    <tr> \n",
       "        <td id=\"T_5d97b524_249a_11e9_a9bd_10ddb1d831d8row2_col0\" class=\"data row2 col0\" >COMPLETED</td> \n",
       "        <td id=\"T_5d97b524_249a_11e9_a9bd_10ddb1d831d8row2_col1\" class=\"data row2 col1\" >1</td> \n",
       "    </tr>    <tr> \n",
       "        <td id=\"T_5d97b524_249a_11e9_a9bd_10ddb1d831d8row3_col0\" class=\"data row3 col0\" >FAILED</td> \n",
       "        <td id=\"T_5d97b524_249a_11e9_a9bd_10ddb1d831d8row3_col1\" class=\"data row3 col1\" >0</td> \n",
       "    </tr></tbody> \n",
       "</table> "
      ],
      "text/plain": [
       "<pandas.io.formats.style.Styler at 0x110dedbe0>"
      ]
     },
     "execution_count": 9,
     "metadata": {},
     "output_type": "execute_result"
    }
   ],
   "source": [
    "status = batch_run_manager.get_latest_statuses()\n",
    "status_counts = [[s, len(status[s])] for s in status]\n",
    "df = pd.DataFrame(status_counts, columns=['Task', 'Status'])\n",
    "df.style.hide_index()"
   ]
  },
  {
   "cell_type": "markdown",
   "metadata": {},
   "source": [
    "### STM calculation\n",
    "\n",
    "Now that we know where this asteroid was 50 years ago, let's propagate forward using the STM module to compute a state transition matrix that we can use in our delta-V calculations."
   ]
  },
  {
   "cell_type": "code",
   "execution_count": 10,
   "metadata": {},
   "outputs": [
    {
     "name": "stdout",
     "output_type": "stream",
     "text": [
      "[0.516483] Submitting 13 runs.\n",
      "[59.404287] Running.\n",
      "[16.410745] Retrieving propagation results.\n"
     ]
    },
    {
     "ename": "AssertionError",
     "evalue": "\nNot equal to tolerance rtol=0, atol=0.001\n\n(mismatch 100.0%)\n x: array([-2641186.193074,  -643221.722065,   180860.782719])\n y: array([0, 0, 0])",
     "output_type": "error",
     "traceback": [
      "\u001b[0;31m---------------------------------------------------------------------------\u001b[0m",
      "\u001b[0;31mAssertionError\u001b[0m                            Traceback (most recent call last)",
      "\u001b[0;32m<ipython-input-10-83a8344f51a3>\u001b[0m in \u001b[0;36m<module>\u001b[0;34m()\u001b[0m\n\u001b[1;32m     15\u001b[0m \u001b[0;31m# We should have ended up quite close to the same position and velocity at which it started. Validate that.\u001b[0m\u001b[0;34m\u001b[0m\u001b[0;34m\u001b[0m\u001b[0m\n\u001b[1;32m     16\u001b[0m \u001b[0mdifference\u001b[0m \u001b[0;34m=\u001b[0m \u001b[0mnp\u001b[0m\u001b[0;34m.\u001b[0m\u001b[0msubtract\u001b[0m\u001b[0;34m(\u001b[0m\u001b[0mnow_state_vector\u001b[0m\u001b[0;34m,\u001b[0m \u001b[0minitial_state_vector\u001b[0m\u001b[0;34m)\u001b[0m\u001b[0;34m\u001b[0m\u001b[0m\n\u001b[0;32m---> 17\u001b[0;31m \u001b[0mnpt\u001b[0m\u001b[0;34m.\u001b[0m\u001b[0massert_allclose\u001b[0m\u001b[0;34m(\u001b[0m\u001b[0mdifference\u001b[0m\u001b[0;34m[\u001b[0m\u001b[0;36m0\u001b[0m\u001b[0;34m:\u001b[0m\u001b[0;36m3\u001b[0m\u001b[0;34m]\u001b[0m\u001b[0;34m,\u001b[0m \u001b[0;34m[\u001b[0m\u001b[0;36m0\u001b[0m\u001b[0;34m,\u001b[0m \u001b[0;36m0\u001b[0m\u001b[0;34m,\u001b[0m \u001b[0;36m0\u001b[0m\u001b[0;34m]\u001b[0m\u001b[0;34m,\u001b[0m \u001b[0mrtol\u001b[0m\u001b[0;34m=\u001b[0m\u001b[0;36m0\u001b[0m\u001b[0;34m,\u001b[0m \u001b[0matol\u001b[0m\u001b[0;34m=\u001b[0m\u001b[0;36m1e-3\u001b[0m\u001b[0;34m)\u001b[0m    \u001b[0;31m# Allow 1m of change in position\u001b[0m\u001b[0;34m\u001b[0m\u001b[0m\n\u001b[0m\u001b[1;32m     18\u001b[0m \u001b[0mnpt\u001b[0m\u001b[0;34m.\u001b[0m\u001b[0massert_allclose\u001b[0m\u001b[0;34m(\u001b[0m\u001b[0mdifference\u001b[0m\u001b[0;34m[\u001b[0m\u001b[0;36m3\u001b[0m\u001b[0;34m:\u001b[0m\u001b[0;36m6\u001b[0m\u001b[0;34m]\u001b[0m\u001b[0;34m,\u001b[0m \u001b[0;34m[\u001b[0m\u001b[0;36m0\u001b[0m\u001b[0;34m,\u001b[0m \u001b[0;36m0\u001b[0m\u001b[0;34m,\u001b[0m \u001b[0;36m0\u001b[0m\u001b[0;34m]\u001b[0m\u001b[0;34m,\u001b[0m \u001b[0mrtol\u001b[0m\u001b[0;34m=\u001b[0m\u001b[0;36m0\u001b[0m\u001b[0;34m,\u001b[0m \u001b[0matol\u001b[0m\u001b[0;34m=\u001b[0m\u001b[0;36m1e-10\u001b[0m\u001b[0;34m)\u001b[0m   \u001b[0;31m# But only a tiny change in velocity\u001b[0m\u001b[0;34m\u001b[0m\u001b[0m\n\u001b[1;32m     19\u001b[0m \u001b[0;34m\u001b[0m\u001b[0m\n",
      "\u001b[0;32m/anaconda3/lib/python3.6/site-packages/numpy/testing/nose_tools/utils.py\u001b[0m in \u001b[0;36massert_allclose\u001b[0;34m(actual, desired, rtol, atol, equal_nan, err_msg, verbose)\u001b[0m\n\u001b[1;32m   1394\u001b[0m     \u001b[0mheader\u001b[0m \u001b[0;34m=\u001b[0m \u001b[0;34m'Not equal to tolerance rtol=%g, atol=%g'\u001b[0m \u001b[0;34m%\u001b[0m \u001b[0;34m(\u001b[0m\u001b[0mrtol\u001b[0m\u001b[0;34m,\u001b[0m \u001b[0matol\u001b[0m\u001b[0;34m)\u001b[0m\u001b[0;34m\u001b[0m\u001b[0m\n\u001b[1;32m   1395\u001b[0m     assert_array_compare(compare, actual, desired, err_msg=str(err_msg),\n\u001b[0;32m-> 1396\u001b[0;31m                          verbose=verbose, header=header, equal_nan=equal_nan)\n\u001b[0m\u001b[1;32m   1397\u001b[0m \u001b[0;34m\u001b[0m\u001b[0m\n\u001b[1;32m   1398\u001b[0m \u001b[0;34m\u001b[0m\u001b[0m\n",
      "\u001b[0;32m/anaconda3/lib/python3.6/site-packages/numpy/testing/nose_tools/utils.py\u001b[0m in \u001b[0;36massert_array_compare\u001b[0;34m(comparison, x, y, err_msg, verbose, header, precision, equal_nan, equal_inf)\u001b[0m\n\u001b[1;32m    777\u001b[0m                                 \u001b[0mverbose\u001b[0m\u001b[0;34m=\u001b[0m\u001b[0mverbose\u001b[0m\u001b[0;34m,\u001b[0m \u001b[0mheader\u001b[0m\u001b[0;34m=\u001b[0m\u001b[0mheader\u001b[0m\u001b[0;34m,\u001b[0m\u001b[0;34m\u001b[0m\u001b[0m\n\u001b[1;32m    778\u001b[0m                                 names=('x', 'y'), precision=precision)\n\u001b[0;32m--> 779\u001b[0;31m             \u001b[0;32mraise\u001b[0m \u001b[0mAssertionError\u001b[0m\u001b[0;34m(\u001b[0m\u001b[0mmsg\u001b[0m\u001b[0;34m)\u001b[0m\u001b[0;34m\u001b[0m\u001b[0m\n\u001b[0m\u001b[1;32m    780\u001b[0m     \u001b[0;32mexcept\u001b[0m \u001b[0mValueError\u001b[0m\u001b[0;34m:\u001b[0m\u001b[0;34m\u001b[0m\u001b[0m\n\u001b[1;32m    781\u001b[0m         \u001b[0;32mimport\u001b[0m \u001b[0mtraceback\u001b[0m\u001b[0;34m\u001b[0m\u001b[0m\n",
      "\u001b[0;31mAssertionError\u001b[0m: \nNot equal to tolerance rtol=0, atol=0.001\n\n(mismatch 100.0%)\n x: array([-2641186.193074,  -643221.722065,   180860.782719])\n y: array([0, 0, 0])"
     ]
    }
   ],
   "source": [
    "forwards_propagation_params = PropagationParams({\n",
    "    'start_time': fifty_years_ago.isoformat() + 'Z',\n",
    "    'end_time': now.isoformat() + 'Z',\n",
    "    'step_size': 0,  # Use adaptive step size.\n",
    "    'project_uuid': working_project.get_uuid(),\n",
    "})\n",
    "forwards_opm_params = OpmParams(dict(asteroid_params, **{\n",
    "    'epoch': fifty_years_ago.isoformat() + 'Z',\n",
    "    'state_vector': state_vector_fifty_years_ago,  # This will be nudged to compute the STM.\n",
    "}))\n",
    "\n",
    "stm_propagator = StmPropagationModule(service.get_batches_module())\n",
    "now_state_vector, stm = stm_propagator.run_stm_propagation(forwards_propagation_params, forwards_opm_params)\n",
    "\n",
    "# We should have ended up quite close to the same position and velocity at which it started. Validate that.\n",
    "difference = np.subtract(now_state_vector, initial_state_vector)\n",
    "npt.assert_allclose(difference[0:3], [0, 0, 0], rtol=0, atol=1e-3)    # Allow 1m of change in position\n",
    "npt.assert_allclose(difference[3:6], [0, 0, 0], rtol=0, atol=1e-10)   # But only a tiny change in velocity\n",
    "\n",
    "# Now we have the state transition matrix!\n",
    "print(\"State transition matrix:\")\n",
    "print(stm)"
   ]
  },
  {
   "cell_type": "markdown",
   "metadata": {},
   "source": [
    "### Now what?\n",
    "\n",
    "Now that we have the state transition matrix, how do we compute delta-Vs? What should happen now? TODO(hackathon)"
   ]
  },
  {
   "cell_type": "code",
   "execution_count": 11,
   "metadata": {},
   "outputs": [
    {
     "name": "stdout",
     "output_type": "stream",
     "text": [
      "Cleaning up working project abe32b01-09b1-4763-80ee-75cda6f3b7c7...\n",
      "[1.46866] Teardown\n"
     ]
    }
   ],
   "source": [
    "# Cleans up working project and any batches and runs that were made within that project.\n",
    "service.teardown()"
   ]
  },
  {
   "cell_type": "code",
   "execution_count": null,
   "metadata": {},
   "outputs": [],
   "source": []
  }
 ],
 "metadata": {
  "kernelspec": {
   "display_name": "Python 3",
   "language": "python",
   "name": "python3"
  },
  "language_info": {
   "codemirror_mode": {
    "name": "ipython",
    "version": 3
   },
   "file_extension": ".py",
   "mimetype": "text/x-python",
   "name": "python",
   "nbconvert_exporter": "python",
   "pygments_lexer": "ipython3",
   "version": "3.6.4"
  }
 },
 "nbformat": 4,
 "nbformat_minor": 2
}
